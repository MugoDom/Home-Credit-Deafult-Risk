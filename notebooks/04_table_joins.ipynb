{
 "cells": [
  {
   "cell_type": "markdown",
   "id": "3780a6a7",
   "metadata": {},
   "source": [
    "# Join the Feature tables\n",
    "\n",
    "The goal in this step is to:\n",
    "- Load the datasets:\n",
    "- Merge the datasets based on the foreign key\n",
    "- Perform Basic QA\n",
    "- Export the dataset\n"
   ]
  },
  {
   "cell_type": "code",
   "execution_count": 1,
   "id": "d8b5095c",
   "metadata": {},
   "outputs": [
    {
     "name": "stdout",
     "output_type": "stream",
     "text": [
      "Loaded:\n",
      "app_train_fe: (307511, 137)\n",
      "app_test_fe: (48744, 136)\n",
      "bureau_agg: (305811, 22)\n",
      "behavior_agg: (338857, 24)\n"
     ]
    }
   ],
   "source": [
    "import pandas as pd\n",
    "import numpy as np\n",
    "from pathlib import Path\n",
    "\n",
    "# Set up PATH variable\n",
    "CLEAN_DIR = Path(\"../data/clean\")\n",
    "CLEAN_DIR.mkdir(parents=True, exist_ok=True)\n",
    "\n",
    "app_train_fe = pd.read_csv(CLEAN_DIR / \"application_train_fe.csv\")\n",
    "app_test_fe  = pd.read_csv(CLEAN_DIR / \"application_test_fe.csv\")\n",
    "bureau_agg   = pd.read_csv(CLEAN_DIR / \"bureau_agg.csv\")\n",
    "behavior_agg = pd.read_csv(CLEAN_DIR / \"behavior_agg.csv\")\n",
    "\n",
    "print(\"Loaded:\")\n",
    "print(\"app_train_fe:\", app_train_fe.shape)\n",
    "print(\"app_test_fe:\", app_test_fe.shape)\n",
    "print(\"bureau_agg:\", bureau_agg.shape)\n",
    "print(\"behavior_agg:\", behavior_agg.shape)\n"
   ]
  },
  {
   "cell_type": "markdown",
   "id": "0b544563",
   "metadata": {},
   "source": [
    "### Merge the train dataset"
   ]
  },
  {
   "cell_type": "code",
   "execution_count": 2,
   "id": "d0f96a57",
   "metadata": {},
   "outputs": [
    {
     "name": "stdout",
     "output_type": "stream",
     "text": [
      "train_merged shape: (307511, 181)\n"
     ]
    }
   ],
   "source": [
    "train_merged = (\n",
    "    app_train_fe\n",
    "    .merge(bureau_agg, on=\"SK_ID_CURR\", how=\"left\")\n",
    "    .merge(behavior_agg, on=\"SK_ID_CURR\", how=\"left\")\n",
    ")\n",
    "print(\"train_merged shape:\", train_merged.shape)\n"
   ]
  },
  {
   "cell_type": "markdown",
   "id": "167b02b2",
   "metadata": {},
   "source": [
    "### Merge the test set"
   ]
  },
  {
   "cell_type": "code",
   "execution_count": 3,
   "id": "d354d089",
   "metadata": {},
   "outputs": [
    {
     "name": "stdout",
     "output_type": "stream",
     "text": [
      "test_merged shape: (48744, 180)\n"
     ]
    }
   ],
   "source": [
    "test_merged = (\n",
    "    app_test_fe\n",
    "    .merge(bureau_agg, on=\"SK_ID_CURR\", how=\"left\")\n",
    "    .merge(behavior_agg, on=\"SK_ID_CURR\", how=\"left\")\n",
    ")\n",
    "print(\"test_merged shape:\", test_merged.shape)\n"
   ]
  },
  {
   "cell_type": "markdown",
   "id": "0f62e6b5",
   "metadata": {},
   "source": [
    "### Quality check - Missing values"
   ]
  },
  {
   "cell_type": "code",
   "execution_count": 4,
   "id": "4491cb4b",
   "metadata": {},
   "outputs": [
    {
     "name": "stdout",
     "output_type": "stream",
     "text": [
      "Merged train missing top 30:\n"
     ]
    },
    {
     "data": {
      "text/html": [
       "<div>\n",
       "<style scoped>\n",
       "    .dataframe tbody tr th:only-of-type {\n",
       "        vertical-align: middle;\n",
       "    }\n",
       "\n",
       "    .dataframe tbody tr th {\n",
       "        vertical-align: top;\n",
       "    }\n",
       "\n",
       "    .dataframe thead th {\n",
       "        text-align: right;\n",
       "    }\n",
       "</style>\n",
       "<table border=\"1\" class=\"dataframe\">\n",
       "  <thead>\n",
       "    <tr style=\"text-align: right;\">\n",
       "      <th></th>\n",
       "      <th>missing_frac</th>\n",
       "      <th>missing_pct</th>\n",
       "    </tr>\n",
       "  </thead>\n",
       "  <tbody>\n",
       "    <tr>\n",
       "      <th>CC_MAX_UTILIZATION</th>\n",
       "      <td>0.749404</td>\n",
       "      <td>74.940409</td>\n",
       "    </tr>\n",
       "    <tr>\n",
       "      <th>CC_MEAN_UTILIZATION</th>\n",
       "      <td>0.749404</td>\n",
       "      <td>74.940409</td>\n",
       "    </tr>\n",
       "    <tr>\n",
       "      <th>CC_MEAN_LIMIT</th>\n",
       "      <td>0.746565</td>\n",
       "      <td>74.656516</td>\n",
       "    </tr>\n",
       "    <tr>\n",
       "      <th>CC_MEAN_BALANCE</th>\n",
       "      <td>0.746565</td>\n",
       "      <td>74.656516</td>\n",
       "    </tr>\n",
       "    <tr>\n",
       "      <th>CC_MEAN_NUM_MONTHS</th>\n",
       "      <td>0.746565</td>\n",
       "      <td>74.656516</td>\n",
       "    </tr>\n",
       "    <tr>\n",
       "      <th>CC_NUM_PREV</th>\n",
       "      <td>0.746565</td>\n",
       "      <td>74.656516</td>\n",
       "    </tr>\n",
       "    <tr>\n",
       "      <th>BUREAU_AVG_NUM_MONTHS_REPORTED</th>\n",
       "      <td>0.700073</td>\n",
       "      <td>70.007252</td>\n",
       "    </tr>\n",
       "    <tr>\n",
       "      <th>BUREAU_MEAN_BAD_MONTH_RATE</th>\n",
       "      <td>0.700073</td>\n",
       "      <td>70.007252</td>\n",
       "    </tr>\n",
       "    <tr>\n",
       "      <th>BUREAU_MAX_BAD_MONTH_RATE</th>\n",
       "      <td>0.700073</td>\n",
       "      <td>70.007252</td>\n",
       "    </tr>\n",
       "    <tr>\n",
       "      <th>COMMONAREA_AVG</th>\n",
       "      <td>0.698723</td>\n",
       "      <td>69.872297</td>\n",
       "    </tr>\n",
       "    <tr>\n",
       "      <th>COMMONAREA_MODE</th>\n",
       "      <td>0.698723</td>\n",
       "      <td>69.872297</td>\n",
       "    </tr>\n",
       "    <tr>\n",
       "      <th>COMMONAREA_MEDI</th>\n",
       "      <td>0.698723</td>\n",
       "      <td>69.872297</td>\n",
       "    </tr>\n",
       "    <tr>\n",
       "      <th>NONLIVINGAPARTMENTS_MEDI</th>\n",
       "      <td>0.694330</td>\n",
       "      <td>69.432963</td>\n",
       "    </tr>\n",
       "    <tr>\n",
       "      <th>NONLIVINGAPARTMENTS_MODE</th>\n",
       "      <td>0.694330</td>\n",
       "      <td>69.432963</td>\n",
       "    </tr>\n",
       "    <tr>\n",
       "      <th>NONLIVINGAPARTMENTS_AVG</th>\n",
       "      <td>0.694330</td>\n",
       "      <td>69.432963</td>\n",
       "    </tr>\n",
       "    <tr>\n",
       "      <th>FONDKAPREMONT_MODE</th>\n",
       "      <td>0.683862</td>\n",
       "      <td>68.386172</td>\n",
       "    </tr>\n",
       "    <tr>\n",
       "      <th>LIVINGAPARTMENTS_AVG</th>\n",
       "      <td>0.683550</td>\n",
       "      <td>68.354953</td>\n",
       "    </tr>\n",
       "    <tr>\n",
       "      <th>LIVINGAPARTMENTS_MODE</th>\n",
       "      <td>0.683550</td>\n",
       "      <td>68.354953</td>\n",
       "    </tr>\n",
       "    <tr>\n",
       "      <th>LIVINGAPARTMENTS_MEDI</th>\n",
       "      <td>0.683550</td>\n",
       "      <td>68.354953</td>\n",
       "    </tr>\n",
       "    <tr>\n",
       "      <th>FLOORSMIN_MEDI</th>\n",
       "      <td>0.678486</td>\n",
       "      <td>67.848630</td>\n",
       "    </tr>\n",
       "    <tr>\n",
       "      <th>FLOORSMIN_AVG</th>\n",
       "      <td>0.678486</td>\n",
       "      <td>67.848630</td>\n",
       "    </tr>\n",
       "    <tr>\n",
       "      <th>FLOORSMIN_MODE</th>\n",
       "      <td>0.678486</td>\n",
       "      <td>67.848630</td>\n",
       "    </tr>\n",
       "    <tr>\n",
       "      <th>YEARS_BUILD_MODE</th>\n",
       "      <td>0.664978</td>\n",
       "      <td>66.497784</td>\n",
       "    </tr>\n",
       "    <tr>\n",
       "      <th>YEARS_BUILD_MEDI</th>\n",
       "      <td>0.664978</td>\n",
       "      <td>66.497784</td>\n",
       "    </tr>\n",
       "    <tr>\n",
       "      <th>YEARS_BUILD_AVG</th>\n",
       "      <td>0.664978</td>\n",
       "      <td>66.497784</td>\n",
       "    </tr>\n",
       "    <tr>\n",
       "      <th>OWN_CAR_AGE</th>\n",
       "      <td>0.659908</td>\n",
       "      <td>65.990810</td>\n",
       "    </tr>\n",
       "    <tr>\n",
       "      <th>LANDAREA_MEDI</th>\n",
       "      <td>0.593767</td>\n",
       "      <td>59.376738</td>\n",
       "    </tr>\n",
       "    <tr>\n",
       "      <th>LANDAREA_AVG</th>\n",
       "      <td>0.593767</td>\n",
       "      <td>59.376738</td>\n",
       "    </tr>\n",
       "    <tr>\n",
       "      <th>LANDAREA_MODE</th>\n",
       "      <td>0.593767</td>\n",
       "      <td>59.376738</td>\n",
       "    </tr>\n",
       "    <tr>\n",
       "      <th>BASEMENTAREA_MEDI</th>\n",
       "      <td>0.585160</td>\n",
       "      <td>58.515956</td>\n",
       "    </tr>\n",
       "  </tbody>\n",
       "</table>\n",
       "</div>"
      ],
      "text/plain": [
       "                                missing_frac  missing_pct\n",
       "CC_MAX_UTILIZATION                  0.749404    74.940409\n",
       "CC_MEAN_UTILIZATION                 0.749404    74.940409\n",
       "CC_MEAN_LIMIT                       0.746565    74.656516\n",
       "CC_MEAN_BALANCE                     0.746565    74.656516\n",
       "CC_MEAN_NUM_MONTHS                  0.746565    74.656516\n",
       "CC_NUM_PREV                         0.746565    74.656516\n",
       "BUREAU_AVG_NUM_MONTHS_REPORTED      0.700073    70.007252\n",
       "BUREAU_MEAN_BAD_MONTH_RATE          0.700073    70.007252\n",
       "BUREAU_MAX_BAD_MONTH_RATE           0.700073    70.007252\n",
       "COMMONAREA_AVG                      0.698723    69.872297\n",
       "COMMONAREA_MODE                     0.698723    69.872297\n",
       "COMMONAREA_MEDI                     0.698723    69.872297\n",
       "NONLIVINGAPARTMENTS_MEDI            0.694330    69.432963\n",
       "NONLIVINGAPARTMENTS_MODE            0.694330    69.432963\n",
       "NONLIVINGAPARTMENTS_AVG             0.694330    69.432963\n",
       "FONDKAPREMONT_MODE                  0.683862    68.386172\n",
       "LIVINGAPARTMENTS_AVG                0.683550    68.354953\n",
       "LIVINGAPARTMENTS_MODE               0.683550    68.354953\n",
       "LIVINGAPARTMENTS_MEDI               0.683550    68.354953\n",
       "FLOORSMIN_MEDI                      0.678486    67.848630\n",
       "FLOORSMIN_AVG                       0.678486    67.848630\n",
       "FLOORSMIN_MODE                      0.678486    67.848630\n",
       "YEARS_BUILD_MODE                    0.664978    66.497784\n",
       "YEARS_BUILD_MEDI                    0.664978    66.497784\n",
       "YEARS_BUILD_AVG                     0.664978    66.497784\n",
       "OWN_CAR_AGE                         0.659908    65.990810\n",
       "LANDAREA_MEDI                       0.593767    59.376738\n",
       "LANDAREA_AVG                        0.593767    59.376738\n",
       "LANDAREA_MODE                       0.593767    59.376738\n",
       "BASEMENTAREA_MEDI                   0.585160    58.515956"
      ]
     },
     "metadata": {},
     "output_type": "display_data"
    }
   ],
   "source": [
    "def missing_summary(df, top_n=30):\n",
    "    mis = df.isnull().mean().sort_values(ascending=False)\n",
    "    return (\n",
    "        mis.to_frame(\"missing_frac\")\n",
    "        .assign(missing_pct=lambda x: x[\"missing_frac\"]*100)\n",
    "        .head(top_n)\n",
    "    )\n",
    "\n",
    "print(\"Merged train missing top 30:\")\n",
    "display(missing_summary(train_merged, 30))\n"
   ]
  },
  {
   "cell_type": "markdown",
   "id": "c91edc11",
   "metadata": {},
   "source": [
    "### Quality check: Target presence and distribution again"
   ]
  },
  {
   "cell_type": "code",
   "execution_count": 5,
   "id": "1d3776d1",
   "metadata": {},
   "outputs": [
    {
     "name": "stdout",
     "output_type": "stream",
     "text": [
      "TARGET mean: 0.08072881945686496\n",
      "TARGET\n",
      "0    282686\n",
      "1     24825\n",
      "Name: count, dtype: int64\n"
     ]
    }
   ],
   "source": [
    "if \"TARGET\" in train_merged.columns:\n",
    "    print(\"TARGET mean:\", train_merged[\"TARGET\"].mean())\n",
    "    print(train_merged[\"TARGET\"].value_counts())\n"
   ]
  },
  {
   "cell_type": "markdown",
   "id": "6a33a314",
   "metadata": {},
   "source": [
    "### Quality check: Duplicates"
   ]
  },
  {
   "cell_type": "code",
   "execution_count": 6,
   "id": "885f66c9",
   "metadata": {},
   "outputs": [
    {
     "name": "stdout",
     "output_type": "stream",
     "text": [
      "Duplicate clients in train_merged: 0\n",
      "Duplicate clients in test_merged: 0\n"
     ]
    }
   ],
   "source": [
    "dup_train = train_merged[\"SK_ID_CURR\"].duplicated().sum()\n",
    "dup_test = test_merged[\"SK_ID_CURR\"].duplicated().sum()\n",
    "print(\"Duplicate clients in train_merged:\", dup_train)\n",
    "print(\"Duplicate clients in test_merged:\", dup_test)\n"
   ]
  },
  {
   "cell_type": "markdown",
   "id": "47f87903",
   "metadata": {},
   "source": [
    "### Export merged dataset"
   ]
  },
  {
   "cell_type": "code",
   "execution_count": 7,
   "id": "616cfdb6",
   "metadata": {},
   "outputs": [
    {
     "name": "stdout",
     "output_type": "stream",
     "text": [
      "Saved ../data/clean/train_merged.csv\n",
      "Saved ../data/clean/test_merged.csv\n"
     ]
    }
   ],
   "source": [
    "train_merge_path = CLEAN_DIR / \"train_merged.csv\"\n",
    "test_merge_path  = CLEAN_DIR / \"test_merged.csv\"\n",
    "\n",
    "train_merged.to_csv(train_merge_path, index=False)\n",
    "test_merged.to_csv(test_merge_path, index=False)\n",
    "\n",
    "print(f\"Saved {train_merge_path}\")\n",
    "print(f\"Saved {test_merge_path}\")\n"
   ]
  },
  {
   "cell_type": "code",
   "execution_count": null,
   "id": "a2d45692-b38d-46ee-b9d8-fe17a245f4fc",
   "metadata": {},
   "outputs": [],
   "source": []
  }
 ],
 "metadata": {
  "kernelspec": {
   "display_name": "Python (project_venv)",
   "language": "python",
   "name": "project_venv"
  },
  "language_info": {
   "codemirror_mode": {
    "name": "ipython",
    "version": 3
   },
   "file_extension": ".py",
   "mimetype": "text/x-python",
   "name": "python",
   "nbconvert_exporter": "python",
   "pygments_lexer": "ipython3",
   "version": "3.13.5"
  }
 },
 "nbformat": 4,
 "nbformat_minor": 5
}
